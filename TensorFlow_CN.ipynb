{
  "nbformat": 4,
  "nbformat_minor": 0,
  "metadata": {
    "colab": {
      "name": "TensorFlow_CN.ipynb",
      "provenance": [],
      "collapsed_sections": [],
      "authorship_tag": "ABX9TyMLHqJbdzJ4qtZyYztwIpDL",
      "include_colab_link": true
    },
    "kernelspec": {
      "name": "python3",
      "display_name": "Python 3"
    }
  },
  "cells": [
    {
      "cell_type": "markdown",
      "metadata": {
        "id": "view-in-github",
        "colab_type": "text"
      },
      "source": [
        "<a href=\"https://colab.research.google.com/github/gokulyc/gokul_colab/blob/master/TensorFlow_CN.ipynb\" target=\"_parent\"><img src=\"https://colab.research.google.com/assets/colab-badge.svg\" alt=\"Open In Colab\"/></a>"
      ]
    },
    {
      "cell_type": "code",
      "metadata": {
        "id": "4lHRmIZd3Kav",
        "colab_type": "code",
        "colab": {}
      },
      "source": [
        "import tensorflow as tf"
      ],
      "execution_count": 1,
      "outputs": []
    },
    {
      "cell_type": "code",
      "metadata": {
        "id": "pmWfSZV_5FB0",
        "colab_type": "code",
        "colab": {}
      },
      "source": [
        "# tensorflow v2 legacy mode\n",
        "tf.compat.v1.disable_eager_execution()\n",
        "sess= tf.compat.v1.Session()"
      ],
      "execution_count": 2,
      "outputs": []
    },
    {
      "cell_type": "code",
      "metadata": {
        "id": "dZlx5Yj63Ugp",
        "colab_type": "code",
        "colab": {
          "base_uri": "https://localhost:8080/",
          "height": 50
        },
        "outputId": "f57cf0d7-1d56-4938-d0b6-1c3348f463a4"
      },
      "source": [
        "a=tf.constant(2)\n",
        "b=tf.constant(3)\n",
        "a,b"
      ],
      "execution_count": 3,
      "outputs": [
        {
          "output_type": "execute_result",
          "data": {
            "text/plain": [
              "(<tf.Tensor 'Const:0' shape=() dtype=int32>,\n",
              " <tf.Tensor 'Const_1:0' shape=() dtype=int32>)"
            ]
          },
          "metadata": {
            "tags": []
          },
          "execution_count": 3
        }
      ]
    },
    {
      "cell_type": "code",
      "metadata": {
        "id": "qTLrVnNZ3pR1",
        "colab_type": "code",
        "colab": {
          "base_uri": "https://localhost:8080/",
          "height": 33
        },
        "outputId": "0532236d-7be6-463c-dee5-6b26bdbc5950"
      },
      "source": [
        "c=a+b\n",
        "c"
      ],
      "execution_count": 4,
      "outputs": [
        {
          "output_type": "execute_result",
          "data": {
            "text/plain": [
              "<tf.Tensor 'add:0' shape=() dtype=int32>"
            ]
          },
          "metadata": {
            "tags": []
          },
          "execution_count": 4
        }
      ]
    },
    {
      "cell_type": "code",
      "metadata": {
        "id": "Mt-C6DZ93uqH",
        "colab_type": "code",
        "colab": {
          "base_uri": "https://localhost:8080/",
          "height": 33
        },
        "outputId": "5bf7a62f-06cf-4b1b-db8a-1e98fca38e7f"
      },
      "source": [
        "\n",
        "sess.run(c)"
      ],
      "execution_count": 5,
      "outputs": [
        {
          "output_type": "execute_result",
          "data": {
            "text/plain": [
              "5"
            ]
          },
          "metadata": {
            "tags": []
          },
          "execution_count": 5
        }
      ]
    },
    {
      "cell_type": "code",
      "metadata": {
        "id": "47wHV1OY391O",
        "colab_type": "code",
        "colab": {
          "base_uri": "https://localhost:8080/",
          "height": 50
        },
        "outputId": "74537e21-5a6c-4990-9956-fa1562fb30fc"
      },
      "source": [
        "a1=tf.constant([[3,3]])\n",
        "a2=tf.constant([[3],[5]])\n",
        "a1,a2"
      ],
      "execution_count": 13,
      "outputs": [
        {
          "output_type": "execute_result",
          "data": {
            "text/plain": [
              "(<tf.Tensor 'Const_8:0' shape=(1, 2) dtype=int32>,\n",
              " <tf.Tensor 'Const_9:0' shape=(2, 1) dtype=int32>)"
            ]
          },
          "metadata": {
            "tags": []
          },
          "execution_count": 13
        }
      ]
    },
    {
      "cell_type": "code",
      "metadata": {
        "id": "0d77J-yl7NTP",
        "colab_type": "code",
        "colab": {
          "base_uri": "https://localhost:8080/",
          "height": 33
        },
        "outputId": "6c9e80ec-c686-483f-80b8-f988ba1541a3"
      },
      "source": [
        "sess= tf.compat.v1.Session()\n",
        "res=tf.matmul(a1,a2)\n",
        "res"
      ],
      "execution_count": 14,
      "outputs": [
        {
          "output_type": "execute_result",
          "data": {
            "text/plain": [
              "<tf.Tensor 'MatMul_1:0' shape=(1, 1) dtype=int32>"
            ]
          },
          "metadata": {
            "tags": []
          },
          "execution_count": 14
        }
      ]
    },
    {
      "cell_type": "code",
      "metadata": {
        "id": "8WlVnlii7iCq",
        "colab_type": "code",
        "colab": {
          "base_uri": "https://localhost:8080/",
          "height": 33
        },
        "outputId": "b9bd7579-8e29-4c3c-857c-3bc618daf902"
      },
      "source": [
        "sess.run(res)"
      ],
      "execution_count": 15,
      "outputs": [
        {
          "output_type": "execute_result",
          "data": {
            "text/plain": [
              "array([[24]], dtype=int32)"
            ]
          },
          "metadata": {
            "tags": []
          },
          "execution_count": 15
        }
      ]
    },
    {
      "cell_type": "code",
      "metadata": {
        "id": "sRJPzS5Q8QEE",
        "colab_type": "code",
        "colab": {
          "base_uri": "https://localhost:8080/",
          "height": 33
        },
        "outputId": "593ec7e0-a56e-4851-af0d-3713de56ca5a"
      },
      "source": [
        "a=tf.constant(2)\n",
        "b=tf.constant(3)\n",
        "c=a+b\n",
        "# print(c.eval()) running directly throws error\n",
        "# default session is required to be assigned for eval() to work , like eval(session=sess)\n",
        "with tf.compat.v1.Session() as sess:\n",
        "  print(c.eval())\n",
        "print(c)"
      ],
      "execution_count": 17,
      "outputs": [
        {
          "output_type": "stream",
          "text": [
            "5\n"
          ],
          "name": "stdout"
        }
      ]
    },
    {
      "cell_type": "code",
      "metadata": {
        "id": "0g9bDTLJ9ilT",
        "colab_type": "code",
        "colab": {
          "base_uri": "https://localhost:8080/",
          "height": 33
        },
        "outputId": "aa8ea8f7-5c02-4e70-d957-ff70ffdccc07"
      },
      "source": [
        "a=tf.constant(2)\n",
        "b=tf.constant(3)\n",
        "\n",
        "with tf.compat.v1.Session() as sess:\n",
        "  print(tf.add(a,b).eval())"
      ],
      "execution_count": 18,
      "outputs": [
        {
          "output_type": "stream",
          "text": [
            "5\n"
          ],
          "name": "stdout"
        }
      ]
    },
    {
      "cell_type": "code",
      "metadata": {
        "id": "ol0N_Rlc-mFg",
        "colab_type": "code",
        "colab": {
          "base_uri": "https://localhost:8080/",
          "height": 50
        },
        "outputId": "60c0ace1-714b-478e-850a-ea9d760330a4"
      },
      "source": [
        "a=tf.constant(2)\n",
        "b=tf.constant(3)\n",
        "c=a+b\n",
        "# print(c.eval()) running directly throws error\n",
        "# default session is required to be assigned for eval() to work , like eval(session=sess)\n",
        "with tf.compat.v1.Session() as sess:\n",
        "  print(c.eval())\n",
        "print(c)"
      ],
      "execution_count": 19,
      "outputs": [
        {
          "output_type": "stream",
          "text": [
            "5\n",
            "Tensor(\"add_4:0\", shape=(), dtype=int32)\n"
          ],
          "name": "stdout"
        }
      ]
    },
    {
      "cell_type": "code",
      "metadata": {
        "id": "GfbPLfo0AzJr",
        "colab_type": "code",
        "colab": {
          "base_uri": "https://localhost:8080/",
          "height": 33
        },
        "outputId": "bff2fa8c-6007-47d7-8ddf-06c556aaa671"
      },
      "source": [
        "# Variables\n",
        "var1=tf.Variable(100)\n",
        "var2=tf.Variable(11)\n",
        "sum=tf.add(var1,var2)\n",
        "# variable should be initialized.\n",
        "with tf.compat.v1.Session() as sess:\n",
        "    sess.run(tf.compat.v1.global_variables_initializer())\n",
        "    res=sess.run(sum)\n",
        "    print(res)\n"
      ],
      "execution_count": 24,
      "outputs": [
        {
          "output_type": "stream",
          "text": [
            "111\n"
          ],
          "name": "stdout"
        }
      ]
    },
    {
      "cell_type": "code",
      "metadata": {
        "id": "ZNqxvOYAAzPx",
        "colab_type": "code",
        "colab": {}
      },
      "source": [
        ""
      ],
      "execution_count": null,
      "outputs": []
    }
  ]
}